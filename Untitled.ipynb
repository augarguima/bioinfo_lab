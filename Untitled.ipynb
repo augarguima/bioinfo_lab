{
 "cells": [
  {
   "cell_type": "code",
   "execution_count": null,
   "id": "bffed7e3-f4ca-433a-8c5b-bcd16488989a",
   "metadata": {},
   "outputs": [],
   "source": [
    "# Ativar o ambiente bioinfo\n",
    "!conda init\n",
    "!conda activate bioinfo\n",
    "\n",
    "# Baixar dados públicos FASTQ do SRA\n",
    "!fastq-dump --split-files SRR12123456\n",
    "\n",
    "# Indexar referência com BWA\n",
    "\n",
    "!bwa index reference.fasta\n",
    "\n",
    "# Alinhar os reads contra a referência\n",
    "!bwa mem reference.fasta SRR12123456_1.fastq SRR12123456_2.fastq > aln-pe.sam\n",
    "\n",
    "# Converter SAM para BAM, ordenar e indexar\n",
    "!samtools view -Sb aln-pe.sam > aln-pe.bam\n",
    "!samtools sort aln-pe.bam -o aln-pe.sorted.bam\n",
    "!samtools index aln-pe.sorted.bam\n",
    "\n",
    "# Marcar duplicatas\n",
    "!gatk MarkDuplicates -I aln-pe.sorted.bam -O aln-pe.dedup.bam -M dedup_metrics.txt\n",
    "\n",
    "# Indexar BAM final\n",
    "!samtools index aln-pe.dedup.bam\n",
    "\n",
    "# Calcular tabelas de recalibragem\n",
    "!gatk BaseRecalibrator -I aln-pe.dedup.bam -R reference.fasta --known-sites known_sites.vcf -O recal_data.table\n",
    "\n",
    "# Aplicar recalibragem\n",
    "!gatk ApplyBQSR -R reference.fasta -I aln-pe.dedup.bam --bqsr-recal-file recal_data.table -O aln-pe.recal.bam\n",
    "\n",
    "# Chamada de variantes\n",
    "!gatk HaplotypeCaller -R reference.fasta -I aln-pe.recal.bam -O raw_variants.vcf\n",
    "\n",
    "# Inicializar Git e fazer commit das alterações\n",
    "!git init\n",
    "!git add .\n",
    "!git config --global user.email \"seu-email@example.com\"\n",
    "!git config --global user.name \"Seu Nome\"\n",
    "!git commit -m \"Adiciona dados alinhados e variantes\"\n",
    "\n",
    "# Adicionar repositório remoto e enviar para o GitHub (substitua URL)\n",
    "!git remote add origin https://github.com/augarguima/bioinfo_lab.git\n",
    "!git branch -M main\n",
    "!git push -u origin main\n"
   ]
  },
  {
   "cell_type": "code",
   "execution_count": null,
   "id": "f6aaaaf3-953e-4fb8-8a85-965698b8bff2",
   "metadata": {},
   "outputs": [],
   "source": []
  },
  {
   "cell_type": "code",
   "execution_count": null,
   "id": "08e0dbdd-83fe-488a-9dc3-be795d93553f",
   "metadata": {},
   "outputs": [],
   "source": []
  }
 ],
 "metadata": {
  "kernelspec": {
   "display_name": "Python 3 (ipykernel)",
   "language": "python",
   "name": "python3"
  },
  "language_info": {
   "codemirror_mode": {
    "name": "ipython",
    "version": 3
   },
   "file_extension": ".py",
   "mimetype": "text/x-python",
   "name": "python",
   "nbconvert_exporter": "python",
   "pygments_lexer": "ipython3",
   "version": "3.10.16"
  }
 },
 "nbformat": 4,
 "nbformat_minor": 5
}
